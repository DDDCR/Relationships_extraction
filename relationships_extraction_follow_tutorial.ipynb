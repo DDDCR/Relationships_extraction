{
  "nbformat": 4,
  "nbformat_minor": 0,
  "metadata": {
    "colab": {
      "provenance": [],
      "gpuType": "T4",
      "authorship_tag": "ABX9TyM1Kr3HMoUmRIfLMm3jmUbw",
      "include_colab_link": true
    },
    "kernelspec": {
      "name": "python3",
      "display_name": "Python 3"
    },
    "language_info": {
      "name": "python"
    },
    "accelerator": "GPU"
  },
  "cells": [
    {
      "cell_type": "markdown",
      "metadata": {
        "id": "view-in-github",
        "colab_type": "text"
      },
      "source": [
        "<a href=\"https://colab.research.google.com/github/DDDCR/Relationships_extraction/blob/main/relationships_extraction_follow_tutorial.ipynb\" target=\"_parent\"><img src=\"https://colab.research.google.com/assets/colab-badge.svg\" alt=\"Open In Colab\"/></a>"
      ]
    },
    {
      "cell_type": "code",
      "source": [
        "!python -m spacy download en_core_web_sm"
      ],
      "metadata": {
        "id": "o5GEZjcIN_nM"
      },
      "execution_count": null,
      "outputs": []
    },
    {
      "cell_type": "code",
      "source": [
        "!pip install pandas\n",
        "!pip install bs4"
      ],
      "metadata": {
        "id": "mWo4VbDJN_lG"
      },
      "execution_count": null,
      "outputs": []
    },
    {
      "cell_type": "code",
      "source": [
        "import re\n",
        "import csv\n",
        "import pandas as pd\n",
        "import bs4\n",
        "import requests\n",
        "import spacy\n",
        "from spacy import displacy\n",
        "nlp = spacy.load('en_core_web_sm')\n",
        "\n",
        "from spacy.matcher import Matcher\n",
        "from spacy.tokens import Span\n",
        "\n",
        "import urllib.request\n",
        "from bs4 import BeautifulSoup\n",
        "\n",
        "import networkx as nx\n",
        "\n",
        "import matplotlib.pyplot as plt\n",
        "from tqdm import tqdm\n",
        "\n",
        "pd.set_option('display.max_colwidth', 200)\n",
        "%matplotlib inline"
      ],
      "metadata": {
        "id": "fTnS6uqVN_ix"
      },
      "execution_count": 5,
      "outputs": []
    },
    {
      "cell_type": "code",
      "execution_count": 6,
      "metadata": {
        "id": "RuY2ckxUNJXv"
      },
      "outputs": [],
      "source": [
        "def get_entities(sent):\n",
        "  ## chunk 1\n",
        "  ent1 = \"\"\n",
        "  ent2 = \"\"\n",
        "\n",
        "  prv_tok_dep = \"\"    # dependency tag of previous token in the sentence\n",
        "  prv_tok_text = \"\"   # previous token in the sentence\n",
        "\n",
        "  prefix = \"\"\n",
        "  modifier = \"\"\n",
        "\n",
        "  #############################################################\n",
        "\n",
        "  for tok in nlp(sent):\n",
        "    ## chunk 2\n",
        "    # if token is a punctuation mark then move on to the next token\n",
        "    if tok.dep_ != \"punct\":\n",
        "      # check: token is a compound word or not\n",
        "      if tok.dep_ == \"compound\":\n",
        "        prefix = tok.text\n",
        "        # if the previous word was also a 'compound' then add the current word to it\n",
        "        if prv_tok_dep == \"compound\":\n",
        "          prefix = prv_tok_text + \" \"+ tok.text\n",
        "\n",
        "      # check: token is a modifier or not\n",
        "      if tok.dep_.endswith(\"mod\") == True:\n",
        "        modifier = tok.text\n",
        "        # if the previous word was also a 'compound' then add the current word to it\n",
        "        if prv_tok_dep == \"compound\":\n",
        "          modifier = prv_tok_text + \" \"+ tok.text\n",
        "\n",
        "      ## chunk 3\n",
        "      if tok.dep_.find(\"subj\") == True:\n",
        "        ent1 = modifier +\" \"+ prefix + \" \"+ tok.text\n",
        "        prefix = \"\"\n",
        "        modifier = \"\"\n",
        "        prv_tok_dep = \"\"\n",
        "        prv_tok_text = \"\"\n",
        "\n",
        "      ## chunk 4\n",
        "      if tok.dep_.find(\"obj\") == True:\n",
        "        ent2 = modifier +\" \"+ prefix +\" \"+ tok.text\n",
        "\n",
        "      ## chunk 5\n",
        "      # update variables\n",
        "      prv_tok_dep = tok.dep_\n",
        "      prv_tok_text = tok.text\n",
        "  #############################################################\n",
        "\n",
        "  return [ent1.strip(), ent2.strip()]"
      ]
    },
    {
      "cell_type": "code",
      "source": [
        "text = '''i have 2+ years of non-internship professional software development experience Programming experience with at least one modern language such as Java, C++, or C# including object-oriented design.\n",
        "  1+ years of experience contributing to the architecture and design (architecture, design patterns, reliability and scaling) of new and current systems.\n",
        "  Bachelor / MS Degree in Computer Science. Preferably a PhD in data science. 8+ years of professional experience in software development.\n",
        "  2+ years of experience in project management. Experience in mentoring junior software engineers to improve their skills, and make them more effective, product software engineers.\n",
        "  Experience in data structures, algorithm design, complexity analysis, object-oriented design.\n",
        "  3+ years experience in at least one modern programming language such as Java, Scala, Python, C++, C#\n",
        "  Experience in professional software engineering practices & best practices for the full software development life cycle,\n",
        "  including coding standards, code reviews, source control management, build processes, testing, and operations Experience in communicating with users,\n",
        "  other technical teams, and management to collect requirements, describe software product features, and technical designs.\n",
        "  Experience with building complex software systems that have been successfully delivered to customers Proven ability to take a project from scoping requirements through actual launch of the project,\n",
        "  with experience in the subsequent operation of the system in production'''"
      ],
      "metadata": {
        "id": "men0wO70PjET"
      },
      "execution_count": 13,
      "outputs": []
    },
    {
      "cell_type": "code",
      "source": [
        "sentences = [[i] for i in nlp(text).sents]\n",
        "sentences"
      ],
      "metadata": {
        "colab": {
          "base_uri": "https://localhost:8080/"
        },
        "id": "E_HqzA09PWzM",
        "outputId": "0ecde7a2-87ab-4451-c76c-76eb11400895"
      },
      "execution_count": 16,
      "outputs": [
        {
          "output_type": "execute_result",
          "data": {
            "text/plain": [
              "[[i have 2+ years of non-internship professional software development experience Programming experience with at least one modern language such as Java, C++, or C# including object-oriented design.\n",
              "    ],\n",
              " [1+ years of experience contributing to the architecture and design (architecture, design patterns, reliability and scaling) of new and current systems.\n",
              "    ],\n",
              " [Bachelor / MS Degree in Computer Science.],\n",
              " [Preferably a PhD in data science.],\n",
              " [8+ years of professional experience in software development.\n",
              "    ],\n",
              " [2+ years of experience in project management.],\n",
              " [Experience in mentoring junior software engineers to improve their skills, and make them more effective, product software engineers.\n",
              "    ],\n",
              " [Experience in data structures, algorithm design, complexity analysis, object-oriented design.\n",
              "    ],\n",
              " [3+ years experience in at least one modern programming language such as Java, Scala, Python, C++, C#\n",
              "    Experience in professional software engineering practices & best practices for the full software development life cycle,\n",
              "    including coding standards, code reviews, source control management, build processes, testing, and operations Experience in communicating with users,\n",
              "    other technical teams, and management to collect requirements, describe software product features, and technical designs.\n",
              "    ],\n",
              " [Experience with building complex software systems that have been successfully delivered to customers Proven ability to take a project from scoping requirements through actual launch of the project,\n",
              "    with experience in the subsequent operation of the system in production]]"
            ]
          },
          "metadata": {},
          "execution_count": 16
        }
      ]
    },
    {
      "cell_type": "code",
      "source": [
        "myheaders = ['sentences']\n",
        "myvalues = sentences\n",
        "filename = 'text_sentences.csv'\n",
        "with open(filename, 'w',newline='') as myfile:\n",
        "    writer = csv.writer(myfile)\n",
        "    writer.writerow(myheaders)\n",
        "    writer.writerows(myvalues)"
      ],
      "metadata": {
        "id": "zhZeNVFiQk2t"
      },
      "execution_count": 17,
      "outputs": []
    },
    {
      "cell_type": "code",
      "source": [
        "csv_sentences = pd.read_csv(\"/content/text_sentences.csv\")"
      ],
      "metadata": {
        "id": "JXe6cUSCRDvp"
      },
      "execution_count": 23,
      "outputs": []
    },
    {
      "cell_type": "code",
      "source": [
        "entity_pairs = []\n",
        "\n",
        "for i in tqdm(csv_sentences[\"sentences\"]):\n",
        "  entity_pairs.append(get_entities(i))"
      ],
      "metadata": {
        "colab": {
          "base_uri": "https://localhost:8080/"
        },
        "id": "AAXTviw3NUVv",
        "outputId": "22364e6c-b5a4-4c74-e46c-d6742dd81f5d"
      },
      "execution_count": 25,
      "outputs": [
        {
          "output_type": "stream",
          "name": "stderr",
          "text": [
            "100%|██████████| 10/10 [00:00<00:00, 112.81it/s]\n"
          ]
        }
      ]
    },
    {
      "cell_type": "code",
      "source": [
        "entity_pairs"
      ],
      "metadata": {
        "colab": {
          "base_uri": "https://localhost:8080/"
        },
        "id": "rLRiwGi2RP8E",
        "outputId": "69516674-6529-4599-bbfd-f146092259a5"
      },
      "execution_count": 26,
      "outputs": [
        {
          "output_type": "execute_result",
          "data": {
            "text/plain": [
              "[['i', 'oriented C design'],\n",
              " ['', 'new design systems'],\n",
              " ['', 'Bachelor Computer Science'],\n",
              " ['', 'Preferably data science'],\n",
              " ['', 'professional software development'],\n",
              " ['', '2 project management'],\n",
              " ['junior software them', 'junior software skills'],\n",
              " ['', 'data structures'],\n",
              " ['+ years experience', 'technical software product features'],\n",
              " ['complex software that', 'subsequent  production']]"
            ]
          },
          "metadata": {},
          "execution_count": 26
        }
      ]
    },
    {
      "cell_type": "code",
      "source": [
        "def get_relation(sent):\n",
        "\n",
        "  doc = nlp(sent)\n",
        "\n",
        "  # Matcher class object\n",
        "  matcher = Matcher(nlp.vocab)\n",
        "\n",
        "  #define the pattern\n",
        "  pattern = [{'DEP':'ROOT'},\n",
        "            {'DEP':'prep','OP':\"?\"},\n",
        "            {'DEP':'agent','OP':\"?\"},\n",
        "            {'POS':'ADJ','OP':\"?\"}]\n",
        "\n",
        "  matcher.add(\"matching_1\",[pattern])\n",
        "\n",
        "  matches = matcher(doc)\n",
        "  k = len(matches) - 1\n",
        "\n",
        "  span = doc[matches[k][1]:matches[k][2]]\n",
        "\n",
        "  return(span.text)"
      ],
      "metadata": {
        "id": "W3BILxLPOhHA"
      },
      "execution_count": 8,
      "outputs": []
    },
    {
      "cell_type": "code",
      "source": [
        "get_relation(\"i finished all my homework\")"
      ],
      "metadata": {
        "colab": {
          "base_uri": "https://localhost:8080/",
          "height": 35
        },
        "id": "rLOexLnMOmGX",
        "outputId": "d23642aa-c513-4836-a1e5-2cd6c53a353b"
      },
      "execution_count": 9,
      "outputs": [
        {
          "output_type": "execute_result",
          "data": {
            "text/plain": [
              "'finished'"
            ],
            "application/vnd.google.colaboratory.intrinsic+json": {
              "type": "string"
            }
          },
          "metadata": {},
          "execution_count": 9
        }
      ]
    },
    {
      "cell_type": "code",
      "source": [
        "relations = [get_relation(i) for i in tqdm(csv_sentences[\"sentences\"])]"
      ],
      "metadata": {
        "colab": {
          "base_uri": "https://localhost:8080/"
        },
        "id": "ve6ocwUIRoCG",
        "outputId": "60c3c29a-e6f9-4d9d-f87a-b43e9744d3b2"
      },
      "execution_count": 27,
      "outputs": [
        {
          "output_type": "stream",
          "name": "stderr",
          "text": [
            "100%|██████████| 10/10 [00:00<00:00, 106.17it/s]\n"
          ]
        }
      ]
    },
    {
      "cell_type": "code",
      "source": [
        "relations"
      ],
      "metadata": {
        "colab": {
          "base_uri": "https://localhost:8080/"
        },
        "id": "jQM_DzZvRuNR",
        "outputId": "b3ec00ad-9398-4a01-e22a-2ee28cb74370"
      },
      "execution_count": 28,
      "outputs": [
        {
          "output_type": "execute_result",
          "data": {
            "text/plain": [
              "['have',\n",
              " 'years of',\n",
              " 'Degree in',\n",
              " 'PhD in',\n",
              " 'years of professional',\n",
              " 'years of',\n",
              " 'Experience in',\n",
              " 'Experience in',\n",
              " 'describe',\n",
              " 'Proven']"
            ]
          },
          "metadata": {},
          "execution_count": 28
        }
      ]
    },
    {
      "cell_type": "code",
      "source": [
        "pd.Series(relations).value_counts()[:50]"
      ],
      "metadata": {
        "colab": {
          "base_uri": "https://localhost:8080/"
        },
        "id": "ZpZzLVZBR0_M",
        "outputId": "89270f0b-9339-4c57-bc54-e7454001a6bd"
      },
      "execution_count": 29,
      "outputs": [
        {
          "output_type": "execute_result",
          "data": {
            "text/plain": [
              "years of                 2\n",
              "Experience in            2\n",
              "have                     1\n",
              "Degree in                1\n",
              "PhD in                   1\n",
              "years of professional    1\n",
              "describe                 1\n",
              "Proven                   1\n",
              "dtype: int64"
            ]
          },
          "metadata": {},
          "execution_count": 29
        }
      ]
    }
  ]
}